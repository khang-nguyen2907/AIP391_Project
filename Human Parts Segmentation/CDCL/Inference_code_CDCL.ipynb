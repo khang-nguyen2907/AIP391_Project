{
  "nbformat": 4,
  "nbformat_minor": 0,
  "metadata": {
    "colab": {
      "name": "Human_Part_Parsing",
      "provenance": []
    },
    "kernelspec": {
      "name": "python3",
      "display_name": "Python 3"
    },
    "language_info": {
      "name": "python"
    },
    "accelerator": "GPU"
  },
  "cells": [
    {
      "cell_type": "code",
      "metadata": {
        "colab": {
          "base_uri": "https://localhost:8080/"
        },
        "id": "FpAWxzMJ2dVy",
        "outputId": "9229869d-a000-4156-9250-6c40bf61ac9d"
      },
      "source": [
        "!wget -c https://repo.continuum.io/archive/Anaconda3-5.1.0-Linux-x86_64.sh\n",
        "!chmod +x Anaconda3-5.1.0-Linux-x86_64.sh\n",
        "!bash ./Anaconda3-5.1.0-Linux-x86_64.sh -b -f -p /usr/local\n",
        "!conda install -q -y --prefix /usr/local -c pytorch -c tensorcomp tensor_comprehensions\n",
        "\n",
        "import sys\n",
        "sys.path.append('/usr/local/lib/python3.6/site-packages/')"
      ],
      "execution_count": null,
      "outputs": [
        {
          "output_type": "stream",
          "name": "stdout",
          "text": [
            "--2021-09-21 12:59:15--  https://repo.continuum.io/archive/Anaconda3-5.1.0-Linux-x86_64.sh\n",
            "Resolving repo.continuum.io (repo.continuum.io)... 104.18.201.79, 104.18.200.79, 2606:4700::6812:c84f, ...\n",
            "Connecting to repo.continuum.io (repo.continuum.io)|104.18.201.79|:443... connected.\n",
            "HTTP request sent, awaiting response... 301 Moved Permanently\n",
            "Location: https://repo.anaconda.com/archive/Anaconda3-5.1.0-Linux-x86_64.sh [following]\n",
            "--2021-09-21 12:59:15--  https://repo.anaconda.com/archive/Anaconda3-5.1.0-Linux-x86_64.sh\n",
            "Resolving repo.anaconda.com (repo.anaconda.com)... 104.16.130.3, 104.16.131.3, 2606:4700::6810:8203, ...\n",
            "Connecting to repo.anaconda.com (repo.anaconda.com)|104.16.130.3|:443... connected.\n",
            "HTTP request sent, awaiting response... 200 OK\n",
            "Length: 577996269 (551M) [application/x-sh]\n",
            "Saving to: ‘Anaconda3-5.1.0-Linux-x86_64.sh’\n",
            "\n",
            "Anaconda3-5.1.0-Lin 100%[===================>] 551.22M   169MB/s    in 3.3s    \n",
            "\n",
            "2021-09-21 12:59:18 (168 MB/s) - ‘Anaconda3-5.1.0-Linux-x86_64.sh’ saved [577996269/577996269]\n",
            "\n",
            "PREFIX=/usr/local\n",
            "installing: python-3.6.4-hc3d631a_1 ...\n",
            "Python 3.6.4 :: Anaconda, Inc.\n",
            "installing: ca-certificates-2017.08.26-h1d4fec5_0 ...\n",
            "installing: conda-env-2.6.0-h36134e3_1 ...\n",
            "installing: intel-openmp-2018.0.0-hc7b2577_8 ...\n",
            "installing: libgcc-ng-7.2.0-h7cc24e2_2 ...\n",
            "installing: libgfortran-ng-7.2.0-h9f7466a_2 ...\n",
            "installing: libstdcxx-ng-7.2.0-h7a57d05_2 ...\n",
            "installing: bzip2-1.0.6-h9a117a8_4 ...\n",
            "installing: expat-2.2.5-he0dffb1_0 ...\n",
            "installing: gmp-6.1.2-h6c8ec71_1 ...\n",
            "installing: graphite2-1.3.10-hf63cedd_1 ...\n",
            "installing: icu-58.2-h9c2bf20_1 ...\n",
            "installing: jbig-2.1-hdba287a_0 ...\n",
            "installing: jpeg-9b-h024ee3a_2 ...\n",
            "installing: libffi-3.2.1-hd88cf55_4 ...\n",
            "installing: libsodium-1.0.15-hf101ebd_0 ...\n",
            "installing: libtool-2.4.6-h544aabb_3 ...\n",
            "installing: libxcb-1.12-hcd93eb1_4 ...\n",
            "installing: lzo-2.10-h49e0be7_2 ...\n",
            "installing: mkl-2018.0.1-h19d6760_4 ...\n",
            "installing: ncurses-6.0-h9df7e31_2 ...\n",
            "installing: openssl-1.0.2n-hb7f436b_0 ...\n",
            "installing: patchelf-0.9-hf79760b_2 ...\n",
            "installing: pcre-8.41-hc27e229_1 ...\n",
            "installing: pixman-0.34.0-hceecf20_3 ...\n",
            "installing: tk-8.6.7-hc745277_3 ...\n",
            "installing: unixodbc-2.3.4-hc36303a_1 ...\n",
            "installing: xz-5.2.3-h55aa19d_2 ...\n",
            "installing: yaml-0.1.7-had09818_2 ...\n",
            "installing: zlib-1.2.11-ha838bed_2 ...\n",
            "installing: glib-2.53.6-h5d9569c_2 ...\n",
            "installing: hdf5-1.10.1-h9caa474_1 ...\n",
            "installing: libedit-3.1-heed3624_0 ...\n",
            "installing: libpng-1.6.34-hb9fc6fc_0 ...\n",
            "installing: libssh2-1.8.0-h9cfc8f7_4 ...\n",
            "installing: libtiff-4.0.9-h28f6b97_0 ...\n",
            "installing: libxml2-2.9.7-h26e45fe_0 ...\n",
            "installing: mpfr-3.1.5-h11a74b3_2 ...\n",
            "installing: pandoc-1.19.2.1-hea2e7c5_1 ...\n",
            "installing: readline-7.0-ha6073c6_4 ...\n",
            "installing: zeromq-4.2.2-hbedb6e5_2 ...\n",
            "installing: dbus-1.12.2-hc3f9b76_1 ...\n",
            "installing: freetype-2.8-hab7d2ae_1 ...\n",
            "installing: gstreamer-1.12.4-hb53b477_0 ...\n",
            "installing: libcurl-7.58.0-h1ad7b7a_0 ...\n",
            "installing: libxslt-1.1.32-h1312cb7_0 ...\n",
            "installing: mpc-1.0.3-hec55b23_5 ...\n",
            "installing: sqlite-3.22.0-h1bed415_0 ...\n",
            "installing: curl-7.58.0-h84994c4_0 ...\n",
            "installing: fontconfig-2.12.4-h88586e7_1 ...\n",
            "installing: gst-plugins-base-1.12.4-h33fb286_0 ...\n",
            "installing: alabaster-0.7.10-py36h306e16b_0 ...\n",
            "installing: asn1crypto-0.24.0-py36_0 ...\n",
            "installing: attrs-17.4.0-py36_0 ...\n",
            "installing: backports-1.0-py36hfa02d7e_1 ...\n",
            "installing: beautifulsoup4-4.6.0-py36h49b8c8c_1 ...\n",
            "installing: bitarray-0.8.1-py36h14c3975_1 ...\n",
            "installing: boto-2.48.0-py36h6e4cd66_1 ...\n",
            "installing: cairo-1.14.12-h77bcde2_0 ...\n",
            "installing: certifi-2018.1.18-py36_0 ...\n",
            "installing: chardet-3.0.4-py36h0f667ec_1 ...\n",
            "installing: click-6.7-py36h5253387_0 ...\n",
            "installing: cloudpickle-0.5.2-py36_1 ...\n",
            "installing: colorama-0.3.9-py36h489cec4_0 ...\n",
            "installing: contextlib2-0.5.5-py36h6c84a62_0 ...\n",
            "installing: dask-core-0.16.1-py36_0 ...\n",
            "installing: decorator-4.2.1-py36_0 ...\n",
            "installing: docutils-0.14-py36hb0f60f5_0 ...\n",
            "installing: entrypoints-0.2.3-py36h1aec115_2 ...\n",
            "installing: et_xmlfile-1.0.1-py36hd6bccc3_0 ...\n",
            "installing: fastcache-1.0.2-py36h14c3975_2 ...\n",
            "installing: filelock-2.0.13-py36h646ffb5_0 ...\n",
            "installing: glob2-0.6-py36he249c77_0 ...\n",
            "installing: gmpy2-2.0.8-py36hc8893dd_2 ...\n",
            "installing: greenlet-0.4.12-py36h2d503a6_0 ...\n",
            "installing: heapdict-1.0.0-py36_2 ...\n",
            "installing: idna-2.6-py36h82fb2a8_1 ...\n",
            "installing: imagesize-0.7.1-py36h52d8127_0 ...\n",
            "installing: ipython_genutils-0.2.0-py36hb52b0d5_0 ...\n",
            "installing: itsdangerous-0.24-py36h93cc618_1 ...\n",
            "installing: jdcal-1.3-py36h4c697fb_0 ...\n",
            "installing: lazy-object-proxy-1.3.1-py36h10fcdad_0 ...\n",
            "installing: llvmlite-0.21.0-py36ha241eea_0 ...\n",
            "installing: locket-0.2.0-py36h787c0ad_1 ...\n",
            "installing: lxml-4.1.1-py36hf71bdeb_1 ...\n",
            "installing: markupsafe-1.0-py36hd9260cd_1 ...\n",
            "installing: mccabe-0.6.1-py36h5ad9710_1 ...\n",
            "installing: mistune-0.8.3-py36_0 ...\n",
            "installing: mkl-service-1.1.2-py36h17a0993_4 ...\n",
            "installing: mpmath-1.0.0-py36hfeacd6b_2 ...\n",
            "installing: msgpack-python-0.5.1-py36h6bb024c_0 ...\n",
            "installing: multipledispatch-0.4.9-py36h41da3fb_0 ...\n",
            "installing: numpy-1.14.0-py36h3dfced4_1 ...\n",
            "installing: olefile-0.45.1-py36_0 ...\n",
            "installing: pandocfilters-1.4.2-py36ha6701b7_1 ...\n",
            "installing: parso-0.1.1-py36h35f843b_0 ...\n",
            "installing: path.py-10.5-py36h55ceabb_0 ...\n",
            "installing: pep8-1.7.1-py36_0 ...\n",
            "installing: pickleshare-0.7.4-py36h63277f8_0 ...\n",
            "installing: pkginfo-1.4.1-py36h215d178_1 ...\n",
            "installing: pluggy-0.6.0-py36hb689045_0 ...\n",
            "installing: ply-3.10-py36hed35086_0 ...\n",
            "installing: psutil-5.4.3-py36h14c3975_0 ...\n",
            "installing: ptyprocess-0.5.2-py36h69acd42_0 ...\n",
            "installing: py-1.5.2-py36h29bf505_0 ...\n",
            "installing: pycodestyle-2.3.1-py36hf609f19_0 ...\n",
            "installing: pycosat-0.6.3-py36h0a5515d_0 ...\n",
            "installing: pycparser-2.18-py36hf9f622e_1 ...\n",
            "installing: pycrypto-2.6.1-py36h14c3975_7 ...\n",
            "installing: pycurl-7.43.0.1-py36hb7f436b_0 ...\n",
            "installing: pyodbc-4.0.22-py36hf484d3e_0 ...\n",
            "installing: pyparsing-2.2.0-py36hee85983_1 ...\n",
            "installing: pysocks-1.6.7-py36hd97a5b1_1 ...\n",
            "installing: pytz-2017.3-py36h63b9c63_0 ...\n",
            "installing: pyyaml-3.12-py36hafb9ca4_1 ...\n",
            "installing: pyzmq-16.0.3-py36he2533c7_0 ...\n",
            "installing: qt-5.6.2-h974d657_12 ...\n",
            "installing: qtpy-1.3.1-py36h3691cc8_0 ...\n",
            "installing: rope-0.10.7-py36h147e2ec_0 ...\n",
            "installing: ruamel_yaml-0.15.35-py36h14c3975_1 ...\n",
            "installing: send2trash-1.4.2-py36_0 ...\n",
            "installing: simplegeneric-0.8.1-py36_2 ...\n",
            "installing: sip-4.18.1-py36h51ed4ed_2 ...\n",
            "installing: six-1.11.0-py36h372c433_1 ...\n",
            "installing: snowballstemmer-1.2.1-py36h6febd40_0 ...\n",
            "installing: sortedcontainers-1.5.9-py36_0 ...\n",
            "installing: sphinxcontrib-1.0-py36h6d0f590_1 ...\n",
            "installing: sqlalchemy-1.2.1-py36h14c3975_0 ...\n",
            "installing: tblib-1.3.2-py36h34cf8b6_0 ...\n",
            "installing: testpath-0.3.1-py36h8cadb63_0 ...\n",
            "installing: toolz-0.9.0-py36_0 ...\n",
            "installing: tornado-4.5.3-py36_0 ...\n",
            "installing: typing-3.6.2-py36h7da032a_0 ...\n",
            "installing: unicodecsv-0.14.1-py36ha668878_0 ...\n",
            "installing: wcwidth-0.1.7-py36hdf4376a_0 ...\n",
            "installing: webencodings-0.5.1-py36h800622e_1 ...\n",
            "installing: werkzeug-0.14.1-py36_0 ...\n",
            "installing: wrapt-1.10.11-py36h28b7045_0 ...\n",
            "installing: xlrd-1.1.0-py36h1db9f0c_1 ...\n",
            "installing: xlsxwriter-1.0.2-py36h3de1aca_0 ...\n",
            "installing: xlwt-1.3.0-py36h7b00a1f_0 ...\n",
            "installing: babel-2.5.3-py36_0 ...\n",
            "installing: backports.shutil_get_terminal_size-1.0.0-py36hfea85ff_2 ...\n",
            "installing: bottleneck-1.2.1-py36haac1ea0_0 ...\n",
            "installing: cffi-1.11.4-py36h9745a5d_0 ...\n",
            "installing: conda-verify-2.0.0-py36h98955d8_0 ...\n",
            "installing: cycler-0.10.0-py36h93f1223_0 ...\n",
            "installing: cytoolz-0.9.0-py36h14c3975_0 ...\n",
            "installing: h5py-2.7.1-py36h3585f63_0 ...\n",
            "installing: harfbuzz-1.7.4-hc5b324e_0 ...\n",
            "installing: html5lib-1.0.1-py36h2f9c1c0_0 ...\n",
            "installing: jedi-0.11.1-py36_0 ...\n",
            "installing: networkx-2.1-py36_0 ...\n",
            "installing: nltk-3.2.5-py36h7532b22_0 ...\n",
            "installing: numba-0.36.2-np114py36hc6662d5_0 ...\n",
            "installing: numexpr-2.6.4-py36hc4a3f9a_0 ...\n",
            "installing: openpyxl-2.4.10-py36_0 ...\n",
            "installing: packaging-16.8-py36ha668100_1 ...\n",
            "installing: partd-0.3.8-py36h36fd896_0 ...\n",
            "installing: pathlib2-2.3.0-py36h49efa8e_0 ...\n",
            "installing: pexpect-4.3.1-py36_0 ...\n",
            "installing: pillow-5.0.0-py36h3deb7b8_0 ...\n",
            "installing: pyqt-5.6.0-py36h0386399_5 ...\n",
            "installing: python-dateutil-2.6.1-py36h88d3b88_1 ...\n",
            "installing: pywavelets-0.5.2-py36he602eb0_0 ...\n",
            "installing: qtawesome-0.4.4-py36h609ed8c_0 ...\n",
            "installing: scipy-1.0.0-py36hbf646e7_0 ...\n",
            "installing: setuptools-38.4.0-py36_0 ...\n",
            "installing: singledispatch-3.4.0.3-py36h7a266c3_0 ...\n",
            "installing: sortedcollections-0.5.3-py36h3c761f9_0 ...\n",
            "installing: sphinxcontrib-websupport-1.0.1-py36hb5cb234_1 ...\n",
            "installing: sympy-1.1.1-py36hc6d1c1c_0 ...\n",
            "installing: terminado-0.8.1-py36_1 ...\n",
            "installing: traitlets-4.3.2-py36h674d592_0 ...\n",
            "installing: zict-0.1.3-py36h3a3bf81_0 ...\n",
            "installing: astroid-1.6.1-py36_0 ...\n",
            "installing: bleach-2.1.2-py36_0 ...\n",
            "installing: clyent-1.2.2-py36h7e57e65_1 ...\n",
            "installing: cryptography-2.1.4-py36hd09be54_0 ...\n",
            "installing: cython-0.27.3-py36h1860423_0 ...\n",
            "installing: datashape-0.5.4-py36h3ad6b5c_0 ...\n",
            "installing: distributed-1.20.2-py36_0 ...\n",
            "installing: get_terminal_size-1.0.0-haa9412d_0 ...\n",
            "installing: gevent-1.2.2-py36h2fe25dc_0 ...\n",
            "installing: imageio-2.2.0-py36he555465_0 ...\n",
            "installing: isort-4.2.15-py36had401c0_0 ...\n",
            "installing: jinja2-2.10-py36ha16c418_0 ...\n",
            "installing: jsonschema-2.6.0-py36h006f8b5_0 ...\n",
            "installing: jupyter_core-4.4.0-py36h7c827e3_0 ...\n",
            "installing: matplotlib-2.1.2-py36h0e671d2_0 ...\n",
            "installing: navigator-updater-0.1.0-py36h14770f7_0 ...\n",
            "installing: nose-1.3.7-py36hcdf7029_2 ...\n",
            "installing: pandas-0.22.0-py36hf484d3e_0 ...\n",
            "installing: pango-1.41.0-hd475d92_0 ...\n",
            "installing: patsy-0.5.0-py36_0 ...\n",
            "installing: pyflakes-1.6.0-py36h7bd6a15_0 ...\n",
            "installing: pygments-2.2.0-py36h0d3125c_0 ...\n",
            "installing: pytables-3.4.2-py36h3b5282a_2 ...\n",
            "installing: pytest-3.3.2-py36_0 ...\n",
            "installing: scikit-learn-0.19.1-py36h7aa7ec6_0 ...\n",
            "installing: wheel-0.30.0-py36hfd4bba0_1 ...\n",
            "installing: astropy-2.0.3-py36h14c3975_0 ...\n",
            "installing: bkcharts-0.2-py36h735825a_0 ...\n",
            "installing: bokeh-0.12.13-py36h2f9c1c0_0 ...\n",
            "installing: flask-0.12.2-py36hb24657c_0 ...\n",
            "installing: jupyter_client-5.2.2-py36_0 ...\n",
            "installing: nbformat-4.4.0-py36h31c9010_0 ...\n",
            "installing: pip-9.0.1-py36h6c6f9ce_4 ...\n",
            "installing: prompt_toolkit-1.0.15-py36h17d85b1_0 ...\n",
            "installing: pylint-1.8.2-py36_0 ...\n",
            "installing: pyopenssl-17.5.0-py36h20ba746_0 ...\n",
            "installing: statsmodels-0.8.0-py36h8533d0b_0 ...\n",
            "installing: dask-0.16.1-py36_0 ...\n",
            "installing: flask-cors-3.0.3-py36h2d857d3_0 ...\n",
            "installing: ipython-6.2.1-py36h88c514a_1 ...\n",
            "installing: nbconvert-5.3.1-py36hb41ffb7_0 ...\n",
            "installing: seaborn-0.8.1-py36hfad7ec4_0 ...\n",
            "installing: urllib3-1.22-py36hbe7ace6_0 ...\n",
            "installing: ipykernel-4.8.0-py36_0 ...\n",
            "installing: odo-0.5.1-py36h90ed295_0 ...\n",
            "installing: requests-2.18.4-py36he2e5f8d_1 ...\n",
            "installing: scikit-image-0.13.1-py36h14c3975_1 ...\n",
            "installing: anaconda-client-1.6.9-py36_0 ...\n",
            "installing: blaze-0.11.3-py36h4e06776_0 ...\n",
            "installing: jupyter_console-5.2.0-py36he59e554_1 ...\n",
            "installing: notebook-5.4.0-py36_0 ...\n",
            "installing: qtconsole-4.3.1-py36h8f73b5b_0 ...\n",
            "installing: sphinx-1.6.6-py36_0 ...\n",
            "installing: anaconda-project-0.8.2-py36h44fb852_0 ...\n",
            "installing: jupyterlab_launcher-0.10.2-py36_0 ...\n",
            "installing: numpydoc-0.7.0-py36h18f165f_0 ...\n",
            "installing: widgetsnbextension-3.1.0-py36_0 ...\n",
            "installing: anaconda-navigator-1.7.0-py36_0 ...\n",
            "installing: ipywidgets-7.1.1-py36_0 ...\n",
            "installing: jupyterlab-0.31.5-py36_0 ...\n",
            "installing: spyder-3.2.6-py36_0 ...\n",
            "installing: _ipyw_jlab_nb_ext_conf-0.1.0-py36he11e457_0 ...\n",
            "installing: jupyter-1.0.0-py36_4 ...\n",
            "installing: anaconda-5.1.0-py36_2 ...\n",
            "installing: conda-4.4.10-py36_0 ...\n",
            "installing: conda-build-3.4.1-py36_0 ...\n",
            "installation finished.\n",
            "WARNING:\n",
            "    You currently have a PYTHONPATH environment variable set. This may cause\n",
            "    unexpected behavior when running the Python interpreter in Anaconda3.\n",
            "    For best results, please verify that your PYTHONPATH only points to\n",
            "    directories of packages that are compatible with the Python interpreter\n",
            "    in Anaconda3: /usr/local\n",
            "Solving environment: ...working... done\n",
            "\n",
            "\n",
            "==> WARNING: A newer version of conda exists. <==\n",
            "  current version: 4.4.10\n",
            "  latest version: 4.10.3\n",
            "\n",
            "Please update conda by running\n",
            "\n",
            "    $ conda update -n base conda\n",
            "\n",
            "\n",
            "\n",
            "## Package Plan ##\n",
            "\n",
            "  environment location: /usr/local\n",
            "\n",
            "  added / updated specs: \n",
            "    - tensor_comprehensions\n",
            "\n",
            "\n",
            "The following packages will be downloaded:\n",
            "\n",
            "    package                    |            build\n",
            "    ---------------------------|-----------------\n",
            "    libcurl-7.61.1             |       heec0ca6_0         496 KB\n",
            "    libgcc-ng-9.1.0            |       hdf63c60_0         8.1 MB\n",
            "    readline-7.0               |       h7b6447c_5         392 KB\n",
            "    _libgcc_mutex-0.1          |             main           3 KB\n",
            "    tbb4py-2018.0.4            |   py36h6bb024c_1         190 KB\n",
            "    python-3.6.6               |       hc3d631a_0        29.4 MB\n",
            "    ca-certificates-2021.7.5   |       h06a4308_1         119 KB\n",
            "    mkl-2018.0.3               |                1       198.7 MB\n",
            "    bzip2-1.0.8                |       h7b6447c_0         105 KB\n",
            "    six-1.16.0                 |     pyhd3eb1b0_0          18 KB\n",
            "    openssl-1.0.2u             |       h7b6447c_0         3.1 MB\n",
            "    cudatoolkit-8.0            |                3       322.4 MB\n",
            "    protobuf-3.4.1             |       h21cfbc1_2         5.6 MB  tensorcomp\n",
            "    pytorch-0.3.1              |   py36hfbe7015_1       216.1 MB\n",
            "    tbb-2018.0.4               |       h6bb024c_1         1.3 MB\n",
            "    blas-1.0                   |              mkl           6 KB\n",
            "    pip-21.2.2                 |   py36h06a4308_0         2.1 MB\n",
            "    nccl-1.3.4                 |        cuda8.0_1        10.3 MB\n",
            "    cudnn-7.1.3                |        cuda8.0_0       229.6 MB\n",
            "    glog-0.3.9                 |       h3408eea_2         346 KB  tensorcomp\n",
            "    mkl_fft-1.0.4              |   py36h4414c95_1         150 KB\n",
            "    zlib-1.2.11                |       h7b6447c_3         120 KB\n",
            "    mkl_random-1.0.1           |   py36h4414c95_1         373 KB\n",
            "    certifi-2021.5.30          |   py36h06a4308_0         141 KB\n",
            "    llvm-tapir50-0.1.0         |       h186cc49_2       331.5 MB  tensorcomp\n",
            "    tk-8.6.10                  |       hbc83047_0         3.2 MB\n",
            "    pyyaml-5.4.1               |   py36h27cfd23_1         175 KB\n",
            "    numpy-1.15.4               |   py36h1d66e8a_0          35 KB\n",
            "    numpy-base-1.15.4          |   py36h81de0dd_0         4.2 MB\n",
            "    wheel-0.37.0               |     pyhd3eb1b0_1          31 KB\n",
            "    pycparser-2.20             |             py_2          94 KB\n",
            "    tensor_comprehensions-0.1.1|       hc1584b5_3         2.5 MB  tensorcomp\n",
            "    yaml-0.2.5                 |       h7b6447c_0          87 KB\n",
            "    gflags-2.4.4               |       h4126541_2         113 KB  tensorcomp\n",
            "    setuptools-58.0.4          |   py36h06a4308_0         979 KB\n",
            "    halide-0.1.0               |       h9df8326_2        37.9 MB  tensorcomp\n",
            "    libedit-3.1.20181209       |       hc058e9b_0         188 KB\n",
            "    cffi-1.14.0                |   py36h2e261b9_0         225 KB\n",
            "    xz-5.2.5                   |       h7b6447c_0         438 KB\n",
            "    ncurses-6.1                |       hf484d3e_0         943 KB\n",
            "    unzip-6.0                  |       h611a1e1_0          91 KB\n",
            "    cmake-3.11.1               |       h307fef2_1        12.5 MB\n",
            "    sqlite-3.31.1              |       h7b6447c_0         2.0 MB\n",
            "    isl-tc-0.1.0               |       h9c8d533_2         1.3 MB  tensorcomp\n",
            "    ------------------------------------------------------------\n",
            "                                           Total:        1.39 GB\n",
            "\n",
            "The following NEW packages will be INSTALLED:\n",
            "\n",
            "    _libgcc_mutex:         0.1-main                          \n",
            "    blas:                  1.0-mkl                           \n",
            "    cmake:                 3.11.1-h307fef2_1                 \n",
            "    cudatoolkit:           8.0-3                             \n",
            "    cudnn:                 7.1.3-cuda8.0_0                   \n",
            "    gflags:                2.4.4-h4126541_2        tensorcomp\n",
            "    glog:                  0.3.9-h3408eea_2        tensorcomp\n",
            "    halide:                0.1.0-h9df8326_2        tensorcomp\n",
            "    isl-tc:                0.1.0-h9c8d533_2        tensorcomp\n",
            "    llvm-tapir50:          0.1.0-h186cc49_2        tensorcomp\n",
            "    mkl_fft:               1.0.4-py36h4414c95_1              \n",
            "    mkl_random:            1.0.1-py36h4414c95_1              \n",
            "    nccl:                  1.3.4-cuda8.0_1                   \n",
            "    numpy-base:            1.15.4-py36h81de0dd_0             \n",
            "    protobuf:              3.4.1-h21cfbc1_2        tensorcomp\n",
            "    pytorch:               0.3.1-py36hfbe7015_1              \n",
            "    tbb:                   2018.0.4-h6bb024c_1               \n",
            "    tbb4py:                2018.0.4-py36h6bb024c_1           \n",
            "    tensor_comprehensions: 0.1.1-hc1584b5_3        tensorcomp\n",
            "    unzip:                 6.0-h611a1e1_0                    \n",
            "\n",
            "The following packages will be UPDATED:\n",
            "\n",
            "    bzip2:                 1.0.6-h9a117a8_4                   --> 1.0.8-h7b6447c_0        \n",
            "    ca-certificates:       2017.08.26-h1d4fec5_0              --> 2021.7.5-h06a4308_1     \n",
            "    certifi:               2018.1.18-py36_0                   --> 2021.5.30-py36h06a4308_0\n",
            "    cffi:                  1.11.4-py36h9745a5d_0              --> 1.14.0-py36h2e261b9_0   \n",
            "    libcurl:               7.58.0-h1ad7b7a_0                  --> 7.61.1-heec0ca6_0       \n",
            "    libedit:               3.1-heed3624_0                     --> 3.1.20181209-hc058e9b_0 \n",
            "    libgcc-ng:             7.2.0-h7cc24e2_2                   --> 9.1.0-hdf63c60_0        \n",
            "    mkl:                   2018.0.1-h19d6760_4                --> 2018.0.3-1              \n",
            "    ncurses:               6.0-h9df7e31_2                     --> 6.1-hf484d3e_0          \n",
            "    numpy:                 1.14.0-py36h3dfced4_1              --> 1.15.4-py36h1d66e8a_0   \n",
            "    openssl:               1.0.2n-hb7f436b_0                  --> 1.0.2u-h7b6447c_0       \n",
            "    pip:                   9.0.1-py36h6c6f9ce_4               --> 21.2.2-py36h06a4308_0   \n",
            "    pycparser:             2.18-py36hf9f622e_1                --> 2.20-py_2               \n",
            "    python:                3.6.4-hc3d631a_1                   --> 3.6.6-hc3d631a_0        \n",
            "    pyyaml:                3.12-py36hafb9ca4_1                --> 5.4.1-py36h27cfd23_1    \n",
            "    readline:              7.0-ha6073c6_4                     --> 7.0-h7b6447c_5          \n",
            "    setuptools:            38.4.0-py36_0                      --> 58.0.4-py36h06a4308_0   \n",
            "    six:                   1.11.0-py36h372c433_1              --> 1.16.0-pyhd3eb1b0_0     \n",
            "    sqlite:                3.22.0-h1bed415_0                  --> 3.31.1-h7b6447c_0       \n",
            "    tk:                    8.6.7-hc745277_3                   --> 8.6.10-hbc83047_0       \n",
            "    wheel:                 0.30.0-py36hfd4bba0_1              --> 0.37.0-pyhd3eb1b0_1     \n",
            "    xz:                    5.2.3-h55aa19d_2                   --> 5.2.5-h7b6447c_0        \n",
            "    yaml:                  0.1.7-had09818_2                   --> 0.2.5-h7b6447c_0        \n",
            "    zlib:                  1.2.11-ha838bed_2                  --> 1.2.11-h7b6447c_3       \n",
            "\n",
            "Preparing transaction: ...working... done\n",
            "Verifying transaction: ...working... done\n",
            "Executing transaction: ...working... done\n"
          ]
        }
      ]
    },
    {
      "cell_type": "code",
      "metadata": {
        "colab": {
          "base_uri": "https://localhost:8080/"
        },
        "id": "xZg0De-k2wxk",
        "outputId": "8b3bdfec-5d16-4891-cc83-926f0d6ef38e"
      },
      "source": [
        "!git clone https://github.com/kevinlin311tw/CDCL-human-part-segmentation.git"
      ],
      "execution_count": null,
      "outputs": [
        {
          "output_type": "stream",
          "name": "stdout",
          "text": [
            "Cloning into 'CDCL-human-part-segmentation'...\n",
            "remote: Enumerating objects: 177, done.\u001b[K\n",
            "remote: Counting objects: 100% (177/177), done.\u001b[K\n",
            "remote: Compressing objects: 100% (140/140), done.\u001b[K\n",
            "remote: Total 177 (delta 58), reused 151 (delta 32), pack-reused 0\u001b[K\n",
            "Receiving objects: 100% (177/177), 5.78 MiB | 9.52 MiB/s, done.\n",
            "Resolving deltas: 100% (58/58), done.\n"
          ]
        }
      ]
    },
    {
      "cell_type": "code",
      "metadata": {
        "colab": {
          "base_uri": "https://localhost:8080/"
        },
        "id": "iamEvELf5o1V",
        "outputId": "18216d5d-ec62-4c46-b493-9597c59c76c5"
      },
      "source": [
        "!conda env create -f /content/CDCL-human-part-segmentation/cdcl_environment.yaml"
      ],
      "execution_count": null,
      "outputs": [
        {
          "output_type": "stream",
          "name": "stdout",
          "text": [
            "Solving environment: - \b\b\\ \b\b| \b\b/ \b\b- \b\b\\ \b\b| \b\b/ \b\b- \b\b\\ \b\b| \b\b/ \b\b- \b\b\\ \b\b| \b\b/ \b\b- \b\b\\ \b\b| \b\b/ \b\b- \b\b\\ \b\b| \b\b/ \b\b- \b\b\\ \b\b| \b\b/ \b\b- \b\b\\ \b\b| \b\b/ \b\b- \b\b\\ \b\b| \b\b/ \b\b- \b\b\\ \b\b| \b\b/ \b\b- \b\b\\ \b\b| \b\b/ \b\b- \b\b\\ \b\b| \b\b/ \b\b- \b\b\\ \b\b| \b\b/ \b\b- \b\b\\ \b\b| \b\b/ \b\b- \b\b\\ \b\b| \b\b/ \b\b- \b\b\\ \b\b| \b\b/ \b\b- \b\b\\ \b\b| \b\b/ \b\b- \b\b\\ \b\b| \b\b/ \b\b- \b\b\\ \b\b| \b\b/ \b\b- \b\b\\ \b\b| \b\b/ \b\b- \b\b\\ \b\b| \b\b/ \b\b- \b\b\\ \b\b| \b\b/ \b\b- \b\b\\ \b\b| \b\b/ \b\b- \b\b\\ \b\b| \b\b/ \b\b- \b\b\\ \b\b| \b\b/ \b\b- \b\b\\ \b\b| \b\b/ \b\b- \b\b\\ \b\b| \b\b/ \b\b- \b\b\\ \b\b| \b\b/ \b\b- \b\b\\ \b\b| \b\b/ \b\b- \b\b\\ \b\b| \b\b/ \b\b- \b\b\\ \b\b| \b\b/ \b\b- \b\b\\ \b\b| \b\b/ \b\b- \b\b\\ \b\b| \b\b/ \b\b- \b\b\\ \b\b| \b\b/ \b\b- \b\b\\ \b\bdone\n",
            "\n",
            "\n",
            "==> WARNING: A newer version of conda exists. <==\n",
            "  current version: 4.4.10\n",
            "  latest version: 4.10.3\n",
            "\n",
            "Please update conda by running\n",
            "\n",
            "    $ conda update -n base conda\n",
            "\n",
            "\n",
            "\n",
            "Downloading and Extracting Packages\n",
            "wheel 0.33.4: 100% 1.0/1 [00:00<00:00,  3.14it/s]                \n",
            "pip 19.2.2: 100% 1.0/1 [00:02<00:00,  2.31s/it]               \n",
            "ca-certificates 2019.5.15: 100% 1.0/1 [00:00<00:00,  2.39it/s]                \n",
            "openssl 1.1.1c: 100% 1.0/1 [00:02<00:00,  2.02s/it]               \n",
            "tk 8.6.8: 100% 1.0/1 [00:01<00:00,  1.75s/it]               \n",
            "sqlite 3.29.0: 100% 1.0/1 [00:00<00:00,  1.06it/s]    \n",
            "setuptools 41.0.1: 100% 1.0/1 [00:00<00:00,  1.55it/s]               \n",
            "python 3.6.9: 100% 1.0/1 [00:10<00:00, 10.04s/it]               \n",
            "xz 5.2.4: 100% 1.0/1 [00:00<00:00,  2.01it/s]               \n",
            "certifi 2019.6.16: 100% 1.0/1 [00:00<00:00,  2.99it/s]                \n",
            "ncurses 6.1: 100% 1.0/1 [00:01<00:00,  1.54s/it]               \n",
            "libstdcxx-ng 9.1.0: 100% 1.0/1 [00:01<00:00,  1.40s/it]               \n",
            "Preparing transaction: / \b\b- \b\b\\ \b\bdone\n",
            "Verifying transaction: / \b\b- \b\b\\ \b\b| \b\b/ \b\b- \b\b\\ \b\b| \b\b/ \b\b- \b\b\\ \b\b| \b\b/ \b\b- \b\b\\ \b\b| \b\b/ \b\b- \b\b\\ \b\b| \b\b/ \b\b- \b\b\\ \b\b| \b\bdone\n",
            "Executing transaction: - \b\b\\ \b\b| \b\b/ \b\b- \b\b\\ \b\b| \b\bdone\n",
            "Collecting absl-py==0.8.0 (from -r /content/CDCL-human-part-segmentation/condaenv.rria97bn.requirements.txt (line 1))\n",
            "\u001b[?25l  Downloading https://files.pythonhosted.org/packages/3c/0d/7cbf64cac3f93617a2b6b079c0182e4a83a3e7a8964d3b0cc3d9758ba002/absl-py-0.8.0.tar.gz (102kB)\n",
            "\u001b[K     |████████████████████████████████| 112kB 4.0MB/s \n",
            "\u001b[?25hCollecting astor==0.8.0 (from -r /content/CDCL-human-part-segmentation/condaenv.rria97bn.requirements.txt (line 2))\n",
            "  Downloading https://files.pythonhosted.org/packages/d1/4f/950dfae467b384fc96bc6469de25d832534f6b4441033c39f914efd13418/astor-0.8.0-py2.py3-none-any.whl\n",
            "Collecting backcall==0.1.0 (from -r /content/CDCL-human-part-segmentation/condaenv.rria97bn.requirements.txt (line 3))\n",
            "  Downloading https://files.pythonhosted.org/packages/84/71/c8ca4f5bb1e08401b916c68003acf0a0655df935d74d93bf3f3364b310e0/backcall-0.1.0.tar.gz\n",
            "Collecting configobj==5.0.6 (from -r /content/CDCL-human-part-segmentation/condaenv.rria97bn.requirements.txt (line 4))\n",
            "  Downloading https://files.pythonhosted.org/packages/64/61/079eb60459c44929e684fa7d9e2fdca403f67d64dd9dbac27296be2e0fab/configobj-5.0.6.tar.gz\n",
            "Collecting cupy-cuda90==6.3.0 (from -r /content/CDCL-human-part-segmentation/condaenv.rria97bn.requirements.txt (line 5))\n",
            "\u001b[33m  WARNING: Retrying (Retry(total=4, connect=None, read=None, redirect=None, status=None)) after connection broken by 'ReadTimeoutError(\"HTTPSConnectionPool(host='files.pythonhosted.org', port=443): Read timed out. (read timeout=15)\",)': /packages/e7/4d/f38ecbc795285e8229e54aef5ca14a04d4c11e0e65f1c7f0b2d41c691365/cupy_cuda90-6.3.0-cp36-cp36m-manylinux1_x86_64.whl\u001b[0m\n",
            "\u001b[33m  WARNING: Retrying (Retry(total=3, connect=None, read=None, redirect=None, status=None)) after connection broken by 'ReadTimeoutError(\"HTTPSConnectionPool(host='files.pythonhosted.org', port=443): Read timed out. (read timeout=15)\",)': /packages/e7/4d/f38ecbc795285e8229e54aef5ca14a04d4c11e0e65f1c7f0b2d41c691365/cupy_cuda90-6.3.0-cp36-cp36m-manylinux1_x86_64.whl\u001b[0m\n",
            "\u001b[33m  WARNING: Retrying (Retry(total=2, connect=None, read=None, redirect=None, status=None)) after connection broken by 'ReadTimeoutError(\"HTTPSConnectionPool(host='files.pythonhosted.org', port=443): Read timed out. (read timeout=15)\",)': /packages/e7/4d/f38ecbc795285e8229e54aef5ca14a04d4c11e0e65f1c7f0b2d41c691365/cupy_cuda90-6.3.0-cp36-cp36m-manylinux1_x86_64.whl\u001b[0m\n",
            "\u001b[33m  WARNING: Retrying (Retry(total=1, connect=None, read=None, redirect=None, status=None)) after connection broken by 'ReadTimeoutError(\"HTTPSConnectionPool(host='files.pythonhosted.org', port=443): Read timed out. (read timeout=15)\",)': /packages/e7/4d/f38ecbc795285e8229e54aef5ca14a04d4c11e0e65f1c7f0b2d41c691365/cupy_cuda90-6.3.0-cp36-cp36m-manylinux1_x86_64.whl\u001b[0m\n",
            "\u001b[33m  WARNING: Retrying (Retry(total=0, connect=None, read=None, redirect=None, status=None)) after connection broken by 'ReadTimeoutError(\"HTTPSConnectionPool(host='files.pythonhosted.org', port=443): Read timed out. (read timeout=15)\",)': /packages/e7/4d/f38ecbc795285e8229e54aef5ca14a04d4c11e0e65f1c7f0b2d41c691365/cupy_cuda90-6.3.0-cp36-cp36m-manylinux1_x86_64.whl\u001b[0m\n",
            "\u001b[31mERROR: Could not install packages due to an EnvironmentError: HTTPSConnectionPool(host='files.pythonhosted.org', port=443): Max retries exceeded with url: /packages/e7/4d/f38ecbc795285e8229e54aef5ca14a04d4c11e0e65f1c7f0b2d41c691365/cupy_cuda90-6.3.0-cp36-cp36m-manylinux1_x86_64.whl (Caused by ReadTimeoutError(\"HTTPSConnectionPool(host='files.pythonhosted.org', port=443): Read timed out. (read timeout=15)\",))\n",
            "\u001b[0m\n",
            "\n",
            "CondaValueError: pip returned an error\n",
            "\n"
          ]
        }
      ]
    },
    {
      "cell_type": "code",
      "metadata": {
        "id": "0sUH7I4559Gm"
      },
      "source": [
        "!source activate cdcl"
      ],
      "execution_count": null,
      "outputs": []
    },
    {
      "cell_type": "code",
      "metadata": {
        "colab": {
          "base_uri": "https://localhost:8080/"
        },
        "id": "KyKoB7rQRCau",
        "outputId": "b609ca89-d3db-4ef8-eec6-d1e103e5ac95"
      },
      "source": [
        "!unzip \"/content/drive/MyDrive/AIP391/human_parsing/cdcl_model.zip\" -d \"/content/CDCL-human-part-segmentation/weights\""
      ],
      "execution_count": null,
      "outputs": [
        {
          "output_type": "stream",
          "name": "stdout",
          "text": [
            "Archive:  /content/drive/MyDrive/AIP391/human_parsing/cdcl_model.zip\n",
            "  inflating: /content/CDCL-human-part-segmentation/weights/model_simulated_RGB_mgpu_scaling_append.0071.h5  \n",
            "   creating: /content/CDCL-human-part-segmentation/weights/__MACOSX/\n",
            "  inflating: /content/CDCL-human-part-segmentation/weights/__MACOSX/._model_simulated_RGB_mgpu_scaling_append.0071.h5  \n"
          ]
        }
      ]
    },
    {
      "cell_type": "code",
      "metadata": {
        "colab": {
          "base_uri": "https://localhost:8080/"
        },
        "id": "WVbIJbgGZ6n-",
        "outputId": "4a959a7a-0195-447c-a6b4-3eb58a6833a6"
      },
      "source": [
        "!unzip \"/content/drive/MyDrive/AIP391/human_parsing/cdcl_pascal_model.zip\" -d \"/content/CDCL-human-part-segmentation/weights\""
      ],
      "execution_count": null,
      "outputs": [
        {
          "output_type": "stream",
          "name": "stdout",
          "text": [
            "Archive:  /content/drive/MyDrive/AIP391/human_parsing/cdcl_pascal_model.zip\n",
            "  inflating: /content/CDCL-human-part-segmentation/weights/model_simulated_RGB_mgpu_scaling_append.0024.h5  \n",
            "  inflating: /content/CDCL-human-part-segmentation/weights/__MACOSX/._model_simulated_RGB_mgpu_scaling_append.0024.h5  \n"
          ]
        }
      ]
    },
    {
      "cell_type": "code",
      "metadata": {
        "colab": {
          "base_uri": "https://localhost:8080/"
        },
        "id": "FaGpPdiQanUz",
        "outputId": "024beff4-1bcf-46ad-9882-9ce9103bc703"
      },
      "source": [
        "!pip install opencv-python==4.1.1.26"
      ],
      "execution_count": null,
      "outputs": [
        {
          "output_type": "stream",
          "name": "stdout",
          "text": [
            "Collecting opencv-python==4.1.1.26\n",
            "  Downloading opencv_python-4.1.1.26-cp36-cp36m-manylinux1_x86_64.whl (28.7 MB)\n",
            "\u001b[K     |████████████████████████████████| 28.7 MB 50 kB/s \n",
            "\u001b[?25hRequirement already satisfied: numpy>=1.11.3 in /usr/local/lib/python3.6/site-packages (from opencv-python==4.1.1.26) (1.15.4)\n",
            "Installing collected packages: opencv-python\n",
            "Successfully installed opencv-python-4.1.1.26\n",
            "\u001b[33mWARNING: Running pip as the 'root' user can result in broken permissions and conflicting behaviour with the system package manager. It is recommended to use a virtual environment instead: https://pip.pypa.io/warnings/venv\u001b[0m\n"
          ]
        }
      ]
    },
    {
      "cell_type": "code",
      "metadata": {
        "colab": {
          "base_uri": "https://localhost:8080/"
        },
        "id": "Glo8nrStbbB3",
        "outputId": "6b6a3e8a-eb2f-46e6-fa49-f9eed05cb9d7"
      },
      "source": [
        "!pip install configobj==5.0.6"
      ],
      "execution_count": null,
      "outputs": [
        {
          "output_type": "stream",
          "name": "stdout",
          "text": [
            "Collecting configobj==5.0.6\n",
            "  Using cached configobj-5.0.6.tar.gz (33 kB)\n",
            "Requirement already satisfied: six in /usr/local/lib/python3.6/site-packages (from configobj==5.0.6) (1.16.0)\n",
            "Building wheels for collected packages: configobj\n",
            "  Building wheel for configobj (setup.py) ... \u001b[?25l\u001b[?25hdone\n",
            "  Created wheel for configobj: filename=configobj-5.0.6-py3-none-any.whl size=34546 sha256=b786ebaf34c9f47df08c9694f8d900ec908641bd71c6576392d8b960af20528c\n",
            "  Stored in directory: /root/.cache/pip/wheels/14/d5/8e/1a6dd2be7614b4a455867b3b5eb57054f278470a4c07564381\n",
            "Successfully built configobj\n",
            "Installing collected packages: configobj\n",
            "Successfully installed configobj-5.0.6\n",
            "\u001b[33mWARNING: Running pip as the 'root' user can result in broken permissions and conflicting behaviour with the system package manager. It is recommended to use a virtual environment instead: https://pip.pypa.io/warnings/venv\u001b[0m\n"
          ]
        }
      ]
    },
    {
      "cell_type": "code",
      "metadata": {
        "colab": {
          "base_uri": "https://localhost:8080/"
        },
        "id": "ySxBfyQ6bmaU",
        "outputId": "f99fe238-33be-4f52-e7ec-fa3d60d7689b"
      },
      "source": [
        "!pip install keras==2.1.1"
      ],
      "execution_count": null,
      "outputs": [
        {
          "output_type": "stream",
          "name": "stdout",
          "text": [
            "Collecting keras==2.1.1\n",
            "  Downloading Keras-2.1.1-py2.py3-none-any.whl (302 kB)\n",
            "\u001b[?25l\r\u001b[K     |█                               | 10 kB 29.1 MB/s eta 0:00:01\r\u001b[K     |██▏                             | 20 kB 32.1 MB/s eta 0:00:01\r\u001b[K     |███▎                            | 30 kB 14.4 MB/s eta 0:00:01\r\u001b[K     |████▍                           | 40 kB 11.1 MB/s eta 0:00:01\r\u001b[K     |█████▍                          | 51 kB 4.5 MB/s eta 0:00:01\r\u001b[K     |██████▌                         | 61 kB 4.9 MB/s eta 0:00:01\r\u001b[K     |███████▋                        | 71 kB 4.5 MB/s eta 0:00:01\r\u001b[K     |████████▊                       | 81 kB 5.1 MB/s eta 0:00:01\r\u001b[K     |█████████▊                      | 92 kB 5.1 MB/s eta 0:00:01\r\u001b[K     |██████████▉                     | 102 kB 4.3 MB/s eta 0:00:01\r\u001b[K     |████████████                    | 112 kB 4.3 MB/s eta 0:00:01\r\u001b[K     |█████████████                   | 122 kB 4.3 MB/s eta 0:00:01\r\u001b[K     |██████████████                  | 133 kB 4.3 MB/s eta 0:00:01\r\u001b[K     |███████████████▏                | 143 kB 4.3 MB/s eta 0:00:01\r\u001b[K     |████████████████▎               | 153 kB 4.3 MB/s eta 0:00:01\r\u001b[K     |█████████████████▍              | 163 kB 4.3 MB/s eta 0:00:01\r\u001b[K     |██████████████████▍             | 174 kB 4.3 MB/s eta 0:00:01\r\u001b[K     |███████████████████▌            | 184 kB 4.3 MB/s eta 0:00:01\r\u001b[K     |████████████████████▋           | 194 kB 4.3 MB/s eta 0:00:01\r\u001b[K     |█████████████████████▊          | 204 kB 4.3 MB/s eta 0:00:01\r\u001b[K     |██████████████████████▊         | 215 kB 4.3 MB/s eta 0:00:01\r\u001b[K     |███████████████████████▉        | 225 kB 4.3 MB/s eta 0:00:01\r\u001b[K     |█████████████████████████       | 235 kB 4.3 MB/s eta 0:00:01\r\u001b[K     |██████████████████████████      | 245 kB 4.3 MB/s eta 0:00:01\r\u001b[K     |███████████████████████████     | 256 kB 4.3 MB/s eta 0:00:01\r\u001b[K     |████████████████████████████▏   | 266 kB 4.3 MB/s eta 0:00:01\r\u001b[K     |█████████████████████████████▎  | 276 kB 4.3 MB/s eta 0:00:01\r\u001b[K     |██████████████████████████████▍ | 286 kB 4.3 MB/s eta 0:00:01\r\u001b[K     |███████████████████████████████▍| 296 kB 4.3 MB/s eta 0:00:01\r\u001b[K     |████████████████████████████████| 302 kB 4.3 MB/s \n",
            "\u001b[?25hRequirement already satisfied: six>=1.9.0 in /usr/local/lib/python3.6/site-packages (from keras==2.1.1) (1.16.0)\n",
            "Requirement already satisfied: numpy>=1.9.1 in /usr/local/lib/python3.6/site-packages (from keras==2.1.1) (1.15.4)\n",
            "Requirement already satisfied: scipy>=0.14 in /usr/local/lib/python3.6/site-packages (from keras==2.1.1) (1.0.0)\n",
            "Requirement already satisfied: pyyaml in /usr/local/lib/python3.6/site-packages (from keras==2.1.1) (5.4.1)\n",
            "Installing collected packages: keras\n",
            "Successfully installed keras-2.1.1\n",
            "\u001b[33mWARNING: Running pip as the 'root' user can result in broken permissions and conflicting behaviour with the system package manager. It is recommended to use a virtual environment instead: https://pip.pypa.io/warnings/venv\u001b[0m\n"
          ]
        }
      ]
    },
    {
      "cell_type": "code",
      "metadata": {
        "colab": {
          "base_uri": "https://localhost:8080/"
        },
        "id": "MrVV7Xlxb69T",
        "outputId": "9f599baf-40ce-4dcf-e404-95d059fec337"
      },
      "source": [
        "!pip install tqdm==4.35.0"
      ],
      "execution_count": null,
      "outputs": [
        {
          "output_type": "stream",
          "name": "stdout",
          "text": [
            "Collecting tqdm==4.35.0\n",
            "  Downloading tqdm-4.35.0-py2.py3-none-any.whl (50 kB)\n",
            "\u001b[?25l\r\u001b[K     |██████▌                         | 10 kB 28.8 MB/s eta 0:00:01\r\u001b[K     |█████████████                   | 20 kB 9.3 MB/s eta 0:00:01\r\u001b[K     |███████████████████▍            | 30 kB 8.2 MB/s eta 0:00:01\r\u001b[K     |█████████████████████████▉      | 40 kB 7.7 MB/s eta 0:00:01\r\u001b[K     |████████████████████████████████| 50 kB 2.5 MB/s \n",
            "\u001b[?25hInstalling collected packages: tqdm\n",
            "Successfully installed tqdm-4.35.0\n",
            "\u001b[33mWARNING: Running pip as the 'root' user can result in broken permissions and conflicting behaviour with the system package manager. It is recommended to use a virtual environment instead: https://pip.pypa.io/warnings/venv\u001b[0m\n"
          ]
        }
      ]
    },
    {
      "cell_type": "code",
      "metadata": {
        "colab": {
          "base_uri": "https://localhost:8080/",
          "height": 1000
        },
        "id": "9ynjZfxYugIH",
        "outputId": "e8c7a14f-772d-4ae9-fcbc-4a679476c280"
      },
      "source": [
        "!pip install tensorflow==1.12.2"
      ],
      "execution_count": null,
      "outputs": [
        {
          "output_type": "stream",
          "name": "stdout",
          "text": [
            "Collecting tensorflow==1.12.2\n",
            "  Downloading tensorflow-1.12.2-cp36-cp36m-manylinux1_x86_64.whl (83.1 MB)\n",
            "\u001b[K     |████████████████████████████████| 83.1 MB 92 kB/s \n",
            "\u001b[?25hCollecting absl-py>=0.1.6\n",
            "  Downloading absl_py-0.13.0-py3-none-any.whl (132 kB)\n",
            "\u001b[K     |████████████████████████████████| 132 kB 54.8 MB/s \n",
            "\u001b[?25hCollecting keras-preprocessing>=1.0.5\n",
            "  Downloading Keras_Preprocessing-1.1.2-py2.py3-none-any.whl (42 kB)\n",
            "\u001b[K     |████████████████████████████████| 42 kB 1.3 MB/s \n",
            "\u001b[?25hRequirement already satisfied: wheel>=0.26 in /usr/local/lib/python3.6/site-packages (from tensorflow==1.12.2) (0.37.0)\n",
            "Requirement already satisfied: numpy>=1.13.3 in /usr/local/lib/python3.6/site-packages (from tensorflow==1.12.2) (1.15.4)\n",
            "Collecting astor>=0.6.0\n",
            "  Downloading astor-0.8.1-py2.py3-none-any.whl (27 kB)\n",
            "Collecting gast>=0.2.0\n",
            "  Downloading gast-0.5.2-py3-none-any.whl (10 kB)\n",
            "Requirement already satisfied: six>=1.10.0 in /usr/local/lib/python3.6/site-packages (from tensorflow==1.12.2) (1.16.0)\n",
            "Collecting tensorboard<1.13.0,>=1.12.0\n",
            "  Downloading tensorboard-1.12.2-py3-none-any.whl (3.0 MB)\n",
            "\u001b[K     |████████████████████████████████| 3.0 MB 47.8 MB/s \n",
            "\u001b[?25hCollecting termcolor>=1.1.0\n",
            "  Downloading termcolor-1.1.0.tar.gz (3.9 kB)\n",
            "Collecting keras-applications>=1.0.6\n",
            "  Downloading Keras_Applications-1.0.8-py3-none-any.whl (50 kB)\n",
            "\u001b[K     |████████████████████████████████| 50 kB 6.1 MB/s \n",
            "\u001b[?25hCollecting protobuf>=3.6.1\n",
            "  Downloading protobuf-3.18.0-cp36-cp36m-manylinux_2_17_x86_64.manylinux2014_x86_64.whl (1.1 MB)\n",
            "\u001b[K     |████████████████████████████████| 1.1 MB 38.1 MB/s \n",
            "\u001b[?25hCollecting grpcio>=1.8.6\n",
            "  Downloading grpcio-1.40.0-cp36-cp36m-manylinux2014_x86_64.whl (4.3 MB)\n",
            "\u001b[K     |████████████████████████████████| 4.3 MB 20.5 MB/s \n",
            "\u001b[?25hRequirement already satisfied: h5py in /usr/local/lib/python3.6/site-packages (from keras-applications>=1.0.6->tensorflow==1.12.2) (2.7.1)\n",
            "Collecting markdown>=2.6.8\n",
            "  Downloading Markdown-3.3.4-py3-none-any.whl (97 kB)\n",
            "\u001b[K     |████████████████████████████████| 97 kB 7.4 MB/s \n",
            "\u001b[?25hRequirement already satisfied: werkzeug>=0.11.10 in /usr/local/lib/python3.6/site-packages (from tensorboard<1.13.0,>=1.12.0->tensorflow==1.12.2) (0.14.1)\n",
            "Collecting importlib-metadata\n",
            "  Downloading importlib_metadata-4.8.1-py3-none-any.whl (17 kB)\n",
            "Collecting zipp>=0.5\n",
            "  Downloading zipp-3.5.0-py3-none-any.whl (5.7 kB)\n",
            "Collecting typing-extensions>=3.6.4\n",
            "  Downloading typing_extensions-3.10.0.2-py3-none-any.whl (26 kB)\n",
            "Building wheels for collected packages: termcolor\n",
            "  Building wheel for termcolor (setup.py) ... \u001b[?25l\u001b[?25hdone\n",
            "  Created wheel for termcolor: filename=termcolor-1.1.0-py3-none-any.whl size=4847 sha256=856ed66070efa338a5099ff130f3401a59308cf05ee1027561f468502c81d1e7\n",
            "  Stored in directory: /root/.cache/pip/wheels/93/2a/eb/e58dbcbc963549ee4f065ff80a59f274cc7210b6eab962acdc\n",
            "Successfully built termcolor\n",
            "Installing collected packages: zipp, typing-extensions, importlib-metadata, protobuf, markdown, grpcio, termcolor, tensorboard, keras-preprocessing, keras-applications, gast, astor, absl-py, tensorflow\n",
            "  Attempting uninstall: protobuf\n",
            "    Found existing installation: protobuf 3.4.1\n",
            "    Uninstalling protobuf-3.4.1:\n",
            "      Successfully uninstalled protobuf-3.4.1\n",
            "Successfully installed absl-py-0.13.0 astor-0.8.1 gast-0.5.2 grpcio-1.40.0 importlib-metadata-4.8.1 keras-applications-1.0.8 keras-preprocessing-1.1.2 markdown-3.3.4 protobuf-3.18.0 tensorboard-1.12.2 tensorflow-1.12.2 termcolor-1.1.0 typing-extensions-3.10.0.2 zipp-3.5.0\n",
            "\u001b[33mWARNING: Running pip as the 'root' user can result in broken permissions and conflicting behaviour with the system package manager. It is recommended to use a virtual environment instead: https://pip.pypa.io/warnings/venv\u001b[0m\n"
          ]
        },
        {
          "output_type": "display_data",
          "data": {
            "application/vnd.colab-display-data+json": {
              "pip_warning": {
                "packages": [
                  "astor"
                ]
              }
            }
          },
          "metadata": {}
        }
      ]
    },
    {
      "cell_type": "markdown",
      "metadata": {
        "id": "dn6CaXncxH7p"
      },
      "source": [
        "sửa lại đường dẫn tới file input, output, model, config "
      ]
    },
    {
      "cell_type": "code",
      "metadata": {
        "colab": {
          "base_uri": "https://localhost:8080/"
        },
        "id": "CqqOIyi-aKr-",
        "outputId": "cf1e5ea8-9e23-4718-b22f-35e123b4d460"
      },
      "source": [
        "!python3 /content/CDCL-human-part-segmentation/inference_15parts.py --scale=1 "
      ],
      "execution_count": null,
      "outputs": [
        {
          "output_type": "stream",
          "name": "stdout",
          "text": [
            "/usr/local/lib/python3.6/site-packages/h5py/__init__.py:36: FutureWarning: Conversion of the second argument of issubdtype from `float` to `np.floating` is deprecated. In future, it will be treated as `np.float64 == np.dtype(float).type`.\n",
            "  from ._conv import register_converters as _register_converters\n",
            "Using TensorFlow backend.\n",
            "start processing...\n",
            "WARNING:tensorflow:From /usr/local/lib/python3.6/site-packages/keras/backend/tensorflow_backend.py:1242: calling reduce_sum (from tensorflow.python.ops.math_ops) with keep_dims is deprecated and will be removed in a future version.\n",
            "Instructions for updating:\n",
            "keep_dims is deprecated, use keepdims instead\n",
            "WARNING:tensorflow:From /usr/local/lib/python3.6/site-packages/keras/backend/tensorflow_backend.py:1208: calling reduce_max (from tensorflow.python.ops.math_ops) with keep_dims is deprecated and will be removed in a future version.\n",
            "Instructions for updating:\n",
            "keep_dims is deprecated, use keepdims instead\n",
            "2021-09-21 13:23:29.157955: I tensorflow/core/platform/cpu_feature_guard.cc:141] Your CPU supports instructions that this TensorFlow binary was not compiled to use: AVX2 FMA\n",
            "/content/CDCL-human-part-segmentation/input/0000337.jpg\n",
            "\tActual size fed into NN:  (1, 368, 534, 3)\n",
            "\tActual size fed into NN:  (1, 368, 534, 3)\n",
            "/content/CDCL-human-part-segmentation/input/0000372.jpg\n",
            "\tActual size fed into NN:  (1, 368, 502, 3)\n",
            "\tActual size fed into NN:  (1, 368, 502, 3)\n",
            "/content/CDCL-human-part-segmentation/input/0000003.jpg\n",
            "\tActual size fed into NN:  (1, 368, 494, 3)\n",
            "\tActual size fed into NN:  (1, 368, 494, 3)\n",
            "/content/CDCL-human-part-segmentation/input/0000004.jpg\n",
            "\tActual size fed into NN:  (1, 368, 458, 3)\n",
            "\tActual size fed into NN:  (1, 368, 458, 3)\n",
            "/content/CDCL-human-part-segmentation/input/0000228.jpg\n",
            "\tActual size fed into NN:  (1, 368, 498, 3)\n",
            "\tActual size fed into NN:  (1, 368, 498, 3)\n",
            "/content/CDCL-human-part-segmentation/input/0000143.jpg\n",
            "\tActual size fed into NN:  (1, 368, 468, 3)\n",
            "\tActual size fed into NN:  (1, 368, 468, 3)\n",
            "/content/CDCL-human-part-segmentation/input/0000146.jpg\n",
            "\tActual size fed into NN:  (1, 368, 554, 3)\n",
            "\tActual size fed into NN:  (1, 368, 554, 3)\n",
            "/content/CDCL-human-part-segmentation/input/0000312.jpg\n",
            "\tActual size fed into NN:  (1, 368, 556, 3)\n",
            "\tActual size fed into NN:  (1, 368, 556, 3)\n",
            "/content/CDCL-human-part-segmentation/input/0000369.jpg\n",
            "\tActual size fed into NN:  (1, 368, 494, 3)\n",
            "\tActual size fed into NN:  (1, 368, 494, 3)\n",
            "/content/CDCL-human-part-segmentation/input/0000358.jpg\n",
            "\tActual size fed into NN:  (1, 368, 494, 3)\n",
            "\tActual size fed into NN:  (1, 368, 494, 3)\n",
            "/content/CDCL-human-part-segmentation/input/0000341.jpg\n",
            "\tActual size fed into NN:  (1, 368, 494, 3)\n",
            "\tActual size fed into NN:  (1, 368, 494, 3)\n",
            "/content/CDCL-human-part-segmentation/input/0000266.jpg\n",
            "\tActual size fed into NN:  (1, 368, 636, 3)\n",
            "\tActual size fed into NN:  (1, 368, 636, 3)\n",
            "/content/CDCL-human-part-segmentation/input/0000018.jpg\n",
            "\tActual size fed into NN:  (1, 368, 494, 3)\n",
            "\tActual size fed into NN:  (1, 368, 494, 3)\n",
            "/content/CDCL-human-part-segmentation/input/0000136.jpg\n",
            "\tActual size fed into NN:  (1, 368, 558, 3)\n",
            "\tActual size fed into NN:  (1, 368, 558, 3)\n",
            "/content/CDCL-human-part-segmentation/input/0000084.jpg\n",
            "\tActual size fed into NN:  (1, 368, 554, 3)\n",
            "\tActual size fed into NN:  (1, 368, 554, 3)\n",
            "/content/CDCL-human-part-segmentation/input/0000256.jpg\n",
            "\tActual size fed into NN:  (1, 368, 250, 3)\n",
            "\tActual size fed into NN:  (1, 368, 250, 3)\n",
            "/content/CDCL-human-part-segmentation/input/0000027.jpg\n",
            "\tActual size fed into NN:  (1, 368, 494, 3)\n",
            "\tActual size fed into NN:  (1, 368, 494, 3)\n",
            "/content/CDCL-human-part-segmentation/input/0000293.jpg\n",
            "\tActual size fed into NN:  (1, 368, 492, 3)\n",
            "\tActual size fed into NN:  (1, 368, 492, 3)\n",
            "/content/CDCL-human-part-segmentation/input/0000122.jpg\n",
            "\tActual size fed into NN:  (1, 368, 494, 3)\n",
            "\tActual size fed into NN:  (1, 368, 494, 3)\n",
            "/content/CDCL-human-part-segmentation/input/0000315.jpg\n",
            "\tActual size fed into NN:  (1, 368, 548, 3)\n",
            "\tActual size fed into NN:  (1, 368, 548, 3)\n",
            "/content/CDCL-human-part-segmentation/input/0000065.jpg\n",
            "\tActual size fed into NN:  (1, 368, 538, 3)\n",
            "\tActual size fed into NN:  (1, 368, 538, 3)\n",
            "/content/CDCL-human-part-segmentation/input/0000038.jpg\n",
            "\tActual size fed into NN:  (1, 368, 254, 3)\n",
            "\tActual size fed into NN:  (1, 368, 254, 3)\n",
            "/content/CDCL-human-part-segmentation/input/0000099.jpg\n",
            "\tActual size fed into NN:  (1, 368, 254, 3)\n",
            "\tActual size fed into NN:  (1, 368, 254, 3)\n",
            "/content/CDCL-human-part-segmentation/input/0000219.jpg\n",
            "\tActual size fed into NN:  (1, 368, 250, 3)\n",
            "\tActual size fed into NN:  (1, 368, 250, 3)\n",
            "/content/CDCL-human-part-segmentation/input/0000357.jpg\n",
            "\tActual size fed into NN:  (1, 368, 662, 3)\n",
            "\tActual size fed into NN:  (1, 368, 662, 3)\n",
            "/content/CDCL-human-part-segmentation/input/0000001.jpg\n",
            "\tActual size fed into NN:  (1, 368, 494, 3)\n",
            "\tActual size fed into NN:  (1, 368, 494, 3)\n",
            "/content/CDCL-human-part-segmentation/input/0000039.jpg\n",
            "\tActual size fed into NN:  (1, 368, 724, 3)\n",
            "\tActual size fed into NN:  (1, 368, 724, 3)\n",
            "/content/CDCL-human-part-segmentation/input/0000285.jpg\n",
            "\tActual size fed into NN:  (1, 368, 636, 3)\n",
            "\tActual size fed into NN:  (1, 368, 636, 3)\n",
            "/content/CDCL-human-part-segmentation/input/0000311.jpg\n",
            "\tActual size fed into NN:  (1, 368, 250, 3)\n",
            "\tActual size fed into NN:  (1, 368, 250, 3)\n",
            "/content/CDCL-human-part-segmentation/input/0000273.jpg\n",
            "\tActual size fed into NN:  (1, 368, 494, 3)\n",
            "\tActual size fed into NN:  (1, 368, 494, 3)\n"
          ]
        }
      ]
    },
    {
      "cell_type": "code",
      "metadata": {
        "id": "_w_YwCQraj1r"
      },
      "source": [
        "# !cp -r '/content/CDCL-human-part-segmentation/output/.' '/content/drive/MyDrive/AIP391/human_parsing/test30'"
      ],
      "execution_count": null,
      "outputs": []
    }
  ]
}